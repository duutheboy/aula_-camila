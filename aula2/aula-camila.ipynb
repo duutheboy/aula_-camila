{
 "cells": [
  {
   "cell_type": "code",
   "execution_count": 1,
   "metadata": {},
   "outputs": [],
   "source": [
    "nome = input('Digite seu nome:')"
   ]
  },
  {
   "cell_type": "code",
   "execution_count": 4,
   "metadata": {},
   "outputs": [],
   "source": [
    "idade = int(input('Digite sua idade:'))"
   ]
  },
  {
   "cell_type": "code",
   "execution_count": 7,
   "metadata": {},
   "outputs": [
    {
     "name": "stdout",
     "output_type": "stream",
     "text": [
      "Meu é Eduardo e minha idade 19\n"
     ]
    }
   ],
   "source": [
    "print('Meu é', nome, 'e minha idade', idade)"
   ]
  },
  {
   "cell_type": "code",
   "execution_count": 8,
   "metadata": {},
   "outputs": [
    {
     "data": {
      "text/plain": [
       "int"
      ]
     },
     "execution_count": 8,
     "metadata": {},
     "output_type": "execute_result"
    }
   ],
   "source": [
    "type(idade)"
   ]
  },
  {
   "cell_type": "code",
   "execution_count": 9,
   "metadata": {},
   "outputs": [],
   "source": [
    "num1 = int(input('Digite um número inteiro: '))\n",
    "num2 = int(input('Digite outro número inteiro: '))"
   ]
  },
  {
   "cell_type": "code",
   "execution_count": 10,
   "metadata": {},
   "outputs": [
    {
     "name": "stdout",
     "output_type": "stream",
     "text": [
      "False\n",
      "True\n",
      "False\n",
      "False\n",
      "True\n"
     ]
    }
   ],
   "source": [
    "print(num1 >= num2)\n",
    "print(num1 < num2)\n",
    "print(num1 > num2)\n",
    "print(num1 == num2)\n",
    "print(num1 <= num2)\n"
   ]
  },
  {
   "cell_type": "code",
   "execution_count": 11,
   "metadata": {},
   "outputs": [],
   "source": [
    "senha = '123456'"
   ]
  },
  {
   "cell_type": "code",
   "execution_count": 12,
   "metadata": {},
   "outputs": [
    {
     "name": "stdout",
     "output_type": "stream",
     "text": [
      "True\n"
     ]
    }
   ],
   "source": [
    "senhaVerifica = input('Digite sua senha: ')\n",
    "print(senha == senhaVerifica)"
   ]
  },
  {
   "cell_type": "code",
   "execution_count": 16,
   "metadata": {},
   "outputs": [
    {
     "name": "stdout",
     "output_type": "stream",
     "text": [
      "False\n",
      "True\n"
     ]
    }
   ],
   "source": [
    "num3 = int(input('Digite um número: '))\n",
    "print(num3 > 0 and num3 < 10)\n",
    "print(num3 > 0 or num3 < 10)"
   ]
  },
  {
   "cell_type": "code",
   "execution_count": 17,
   "metadata": {},
   "outputs": [
    {
     "name": "stdout",
     "output_type": "stream",
     "text": [
      "IF\n"
     ]
    }
   ],
   "source": [
    "if (num3 > 10):\n",
    "    print('IF')\n",
    "else: \n",
    "    print('ELSE')"
   ]
  },
  {
   "cell_type": "code",
   "execution_count": 21,
   "metadata": {},
   "outputs": [
    {
     "name": "stdout",
     "output_type": "stream",
     "text": [
      "Número par\n"
     ]
    }
   ],
   "source": [
    "numInput = int(input('Digite um número: '))\n",
    "\n",
    "if (numInput % 2 == 0):\n",
    "    print(\"Número par\")\n",
    "else:\n",
    "    print(\"Número impar\")"
   ]
  },
  {
   "cell_type": "code",
   "execution_count": 22,
   "metadata": {},
   "outputs": [
    {
     "name": "stdout",
     "output_type": "stream",
     "text": [
      "Cupom inválido\n"
     ]
    }
   ],
   "source": [
    "cupom = input('Digite o cupom: ')\n",
    "\n",
    "if cupom == \"aula1\" or cupom == \"aula2\":\n",
    "    print(\"Parabéns! você ganhou 20% de desconto!\")\n",
    "else:\n",
    "    print(\"Cupom inválido\")"
   ]
  }
 ],
 "metadata": {
  "kernelspec": {
   "display_name": "Python 3",
   "language": "python",
   "name": "python3"
  },
  "language_info": {
   "codemirror_mode": {
    "name": "ipython",
    "version": 3
   },
   "file_extension": ".py",
   "mimetype": "text/x-python",
   "name": "python",
   "nbconvert_exporter": "python",
   "pygments_lexer": "ipython3",
   "version": "3.11.8"
  }
 },
 "nbformat": 4,
 "nbformat_minor": 2
}
