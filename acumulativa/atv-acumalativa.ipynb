{
 "cells": [
  {
   "cell_type": "code",
   "execution_count": 4,
   "metadata": {},
   "outputs": [
    {
     "name": "stdout",
     "output_type": "stream",
     "text": [
      "A letra digitada é consoante\n"
     ]
    }
   ],
   "source": [
    "## 1\n",
    "letra = str(input(\"Digite uma letra\"))\n",
    "\n",
    "if letra == \"a\" or letra == \"e\" or letra == \"i\" or letra == \"o\" or letra == \"u\":\n",
    "    print(\"A letra digitada é vogal\")\n",
    "else:\n",
    "    print(\"A letra digitada é consoante\")"
   ]
  },
  {
   "cell_type": "code",
   "execution_count": 7,
   "metadata": {},
   "outputs": [
    {
     "name": "stdout",
     "output_type": "stream",
     "text": [
      "Você deve comprar o primeiro produto.\n"
     ]
    }
   ],
   "source": [
    "## 2\n",
    "produto1 = float(input(\"Digite o valor do primeiro produto\"))\n",
    "produto2 = float(input(\"Digite o valor do segundo produto\"))\n",
    "produto3 = float(input(\"Digite o valor do terceiro produto\"))\n",
    "\n",
    "if produto1 < produto2 and produto1 < produto3:\n",
    "    print(\"Você deve comprar o primeiro produto.\")\n",
    "elif produto2 < produto1 and produto2 < produto3:\n",
    "    print(\"Você deve comprar o segundo produto.\")\n",
    "else:\n",
    "    print(\"Você deve comprar o terceiro produto\")\n"
   ]
  },
  {
   "cell_type": "code",
   "execution_count": 13,
   "metadata": {},
   "outputs": [
    {
     "name": "stdout",
     "output_type": "stream",
     "text": [
      "Os números em ordem decrescente são: 30 20 10\n"
     ]
    }
   ],
   "source": [
    "## 3\n",
    "numero1 = int(input(\"Digite o do primeiro número\"))\n",
    "numero2 = int(input(\"Digite o do segundo número\"))\n",
    "numero3 = int(input(\"Digite o do terceiro número\"))\n",
    "\n",
    "if numero1 >= numero2 and numero1 >= numero3:\n",
    "    maior = numero1\n",
    "    if numero2 >= numero3:\n",
    "        meio = numero2\n",
    "        menor = numero3\n",
    "    else:\n",
    "        meio = numero3\n",
    "        menor = numero2\n",
    "elif numero2 >= numero1 and numero2 >= numero3:\n",
    "    maior = numero2\n",
    "    if numero1 >= numero3:\n",
    "        meio = numero1\n",
    "        menor = numero3\n",
    "    else:\n",
    "        meio = numero3\n",
    "        menor = numero1\n",
    "else:\n",
    "    maior = numero3\n",
    "    if numero1 >= numero2:\n",
    "        meio = numero1\n",
    "        menor = numero2\n",
    "    else:\n",
    "        meio = numero2\n",
    "        menor = numero1\n",
    "\n",
    "print(\"Os números em ordem decrescente são:\", maior, meio, menor)\n"
   ]
  },
  {
   "cell_type": "code",
   "execution_count": 18,
   "metadata": {},
   "outputs": [
    {
     "name": "stdout",
     "output_type": "stream",
     "text": [
      "Bom dia!\n"
     ]
    }
   ],
   "source": [
    "## 4\n",
    "turno = str(input(\"Em que turno você estuda? Use M-Matutino, V-Vespertino ou N-Noturno\"))\n",
    "\n",
    "if turno == \"M\" or turno == \"m\":\n",
    "    print(\"Bom dia!\")\n",
    "elif turno == \"V\" or turno == \"v\":\n",
    "    print(\"Boa tarde!\")\n",
    "elif turno == \"N\" or turno == \"n\":\n",
    "    print(\"Boa noite!\")\n",
    "else:\n",
    "    print(\"Valor inválido!\")"
   ]
  },
  {
   "cell_type": "code",
   "execution_count": 20,
   "metadata": {},
   "outputs": [
    {
     "name": "stdout",
     "output_type": "stream",
     "text": [
      "Quarta\n"
     ]
    }
   ],
   "source": [
    "## 5\n",
    "numero = int(input(\"Digite um número para saber qual dia da semana corresponde a esse número.\"))\n",
    "\n",
    "if numero == 1:\n",
    "    print(\"Domingo\")\n",
    "elif numero == 2:\n",
    "    print(\"Segunda\")\n",
    "elif numero == 3:\n",
    "    print(\"Terça\")\n",
    "elif numero == 4:\n",
    "    print(\"Quarta\")\n",
    "elif numero == 5:\n",
    "    print(\"Quinta\")\n",
    "elif numero == 6:\n",
    "    print(\"Sexta\")\n",
    "elif numero == 7:\n",
    "    print(\"Sábado\")\n",
    "else:\n",
    "    print(\"Número inválido\")"
   ]
  },
  {
   "cell_type": "code",
   "execution_count": 22,
   "metadata": {},
   "outputs": [
    {
     "name": "stdout",
     "output_type": "stream",
     "text": [
      "Seu conceito foi: E, você está Reprovado, se esforce mais da próxima vez!\n"
     ]
    }
   ],
   "source": [
    "## 5.1 - Outro 5?\n",
    "nota1 = float(input(\"Digite sua primeira nota\"))\n",
    "nota2 = float(input(\"Digite sua segunda nota\"))\n",
    "\n",
    "media = ( nota1 + nota2 ) / 2\n",
    "\n",
    "if media >= 9 and media < 10:\n",
    "    print(\"Seu conceito foi: A. Você está aprovado, parabéns!\")\n",
    "elif media >= 7.5 and media < 9:\n",
    "    print(\"Seu conceito foi: B. Você está aprovado, parabéns!\")\n",
    "elif media >= 6 and media < 7.5:\n",
    "    print(\"Seu conceito foi: C. Você está aprovado, parabéns!\")\n",
    "elif media >= 4 and media < 6:\n",
    "    print(\"Seu conceito foi: D. Você está reprovado, se esforce mais da próxima vez!\")\n",
    "elif media > 0 and media < 4:\n",
    "    print(\"Seu conceito foi: E. Você está reprovado, se esforce mais da próxima vez!\")\n"
   ]
  },
  {
   "cell_type": "code",
   "execution_count": 24,
   "metadata": {},
   "outputs": [
    {
     "name": "stdout",
     "output_type": "stream",
     "text": [
      "O Ano digitado não é bisexto.\n"
     ]
    }
   ],
   "source": [
    "## 6 \n",
    "ano = int(input(\"Digite um ano.\"))\n",
    "\n",
    "# anos bissextos são divisíveis por 4\n",
    "if ano % 4 == 0:\n",
    "    print(\"O ano digitado é bisexto.\")\n",
    "else:\n",
    "    print(\"O ano digitado não é bisexto.\")\n"
   ]
  },
  {
   "cell_type": "code",
   "execution_count": null,
   "metadata": {},
   "outputs": [],
   "source": [
    "## 7\n",
    "numero1 = float(input(\"Digite o primeiro número: \"))\n",
    "numero2 = float(input(\"Digite o segundo número: \"))\n",
    "\n",
    "operacao = str(input(\"Digite a operação desejada: + : soma, - : subtração, / : divisão, * : multiplicação, ** : exponenciação: \"))\n",
    "\n",
    "if operacao == \"+\":\n",
    "    resultado = numero1 + numero2\n",
    "elif operacao == \"-\":\n",
    "    resultado = numero1 - numero2\n",
    "elif operacao == \"/\":\n",
    "    resultado = numero1 / numero2\n",
    "elif operacao == \"*\":\n",
    "    resultado = numero1 * numero2\n",
    "else:\n",
    "    resultado = numero1 ** numero2\n",
    "\n",
    "if resultado % 2 == 0:\n",
    "    numPar = \"O número é par\"\n",
    "else:\n",
    "    numPar = \"O número é ímpar\"\n",
    "\n",
    "if resultado > 0:\n",
    "    numPositivo = \"o número é positivo\"\n",
    "elif resultado < 0:\n",
    "    numPositivo = \"o número é negativo\"\n",
    "else:\n",
    "    numPositivo = \"o número é zero\"\n",
    "\n",
    "if resultado == int(resultado):\n",
    "    numInteiro = \"o número é inteiro\"\n",
    "else:\n",
    "    numInteiro = \"o número é decimal\"\n",
    "\n",
    "print(f\"O Resultado foi: {resultado}. {numPar}, {numPositivo} e {numInteiro}\")"
   ]
  },
  {
   "cell_type": "code",
   "execution_count": null,
   "metadata": {},
   "outputs": [],
   "source": [
    "## 8\n",
    "idade = int(input(\"Digite sua idade\"))\n",
    "\n",
    "if idade < 0 and idade > 150:\n",
    "    print(\"Digite um idade válida\")\n",
    "\n",
    "print(f\"Você tem {idade} anos.\")"
   ]
  },
  {
   "cell_type": "code",
   "execution_count": null,
   "metadata": {},
   "outputs": [],
   "source": [
    "## 9\n",
    "num = [10, 9, 5, 20, 20]\n",
    "\n",
    "soma = 0\n",
    "\n",
    "for n in num:\n",
    "    soma += n\n",
    "    \n",
    "media = soma / len(num)\n",
    "    \n",
    "print(\"A soma de todos os números é: \", soma, \", e a média de todos os números é: \", round(media,2))\n"
   ]
  },
  {
   "cell_type": "code",
   "execution_count": null,
   "metadata": {},
   "outputs": [],
   "source": [
    "## 10\n",
    "numInt = int(input(\"Digite um número inteiro: \"))\n",
    "divisores = 0\n",
    "\n",
    "if numInt > 1:\n",
    "    for i in range (1, numInt + 1):\n",
    "        if numInt % i == 0:\n",
    "            divisores += 1\n",
    "\n",
    "if  divisores == 2:\n",
    "    print(\"Esse número é primo.\")\n",
    "\n",
    "else:\n",
    "    print(\"Não é um número primo.\")"
   ]
  },
  {
   "cell_type": "code",
   "execution_count": null,
   "metadata": {},
   "outputs": [],
   "source": [
    "## 11\n",
    "temperaturas = []\n",
    "\n",
    "for i in range(5):\n",
    "    temperatura = float(input(\"Digite a temperatura \" + str(i + 1) + \": \"))\n",
    "    temperaturas.append(temperatura)\n",
    "\n",
    "menorTemperatura = min(temperaturas)\n",
    "maiorTemperatura = max(temperaturas)\n",
    "mediaTemperaturas = sum(temperaturas) / len(temperaturas)\n",
    "\n",
    "print(\"A menor temperatura é: \", menorTemperatura, \"º\")\n",
    "print(\"A maior temperatura é: \", maiorTemperatura, \"º\")\n",
    "print(\"A média das temperatura é: \", mediaTemperaturas, \"º\")"
   ]
  },
  {
   "cell_type": "code",
   "execution_count": null,
   "metadata": {},
   "outputs": [],
   "source": [
    "## 12\n",
    "saldoMedio = 200.50\n",
    "\n",
    "if saldoMedio >= 0 and <= 200:\n",
    "    print(\"Você não possui crédito.\")\n",
    "elif saldoMedio > 200 and <= 400:\n",
    "    credito = saldoMedio * 0.2\n",
    "    print(\"Seu saldo médio é: R$\", saldoMedio \", e o valor do sue crédito é: R$\", credito)\n",
    "elif saldoMedio > 400 and <= 600:\n",
    "    credito = saldoMedio * 0.3\n",
    "    print(\"Seu saldo médio é: R$\", saldoMedio \", e o valor do sue crédito é: R$\", credito)\n",
    "else:\n",
    "    credito = saldoMedio * 0.4\n",
    "    print(\"Seu saldo médio é: R$\", saldoMedio \", e o valor do sue crédito é: R$\", credito)"
   ]
  },
  {
   "cell_type": "code",
   "execution_count": null,
   "metadata": {},
   "outputs": [],
   "source": [
    "## 13\n",
    "nome = str(input(\"Digite seu nome: \"))\n",
    "idade = int(input(\"Digite sua idade: \"))\n",
    "anosAposentar = 65 - idade\n",
    "\n",
    "mensagem = \"Você irá se aposentar daqui a \" , anosAposentar , \" anos.\"\n",
    "print(mensagem)"
   ]
  },
  {
   "cell_type": "code",
   "execution_count": null,
   "metadata": {},
   "outputs": [],
   "source": [
    "## 14\n",
    "valorHora = float(input(\"Digite o valor da sua hora de trabalho: \"))\n",
    "horasTrabalhadas = float(input(\"Digite a quantidade de horas trabalhadas no mês: \"))\n",
    "\n",
    "salarioBruto = valorHora * horasTrabalhadas\n",
    "\n",
    "if salarioBruto <= 2112.00:\n",
    "    descontoIr = 0\n",
    "elif salarioBruto <= 2826.65:\n",
    "    descontoIr = salarioBruto * 0.075\n",
    "elif salarioBruto <= 3751.05:\n",
    "    descontoIr = salarioBruto * 0.15\n",
    "elif salarioBruto <= 4664.68:\n",
    "    descontoIr = salarioBruto * 0.225\n",
    "else:\n",
    "    descontoIr = salarioBruto * 0.275\n",
    "\n",
    "descontoSindicato = salarioBruto * 0.03\n",
    "fgts = salarioBruto * 0.11\n",
    "salarioLiquido = salarioBruto - descontoIr - descontoSindicato\n",
    "\n",
    "print(\"Salário Bruto: R$\", salarioBruto)\n",
    "print(\"Desconto do Imposto de Renda: R$\", descontoIr)\n",
    "print(\"Desconto do Sindicato: R$\", descontoSindicato)\n",
    "print(\"FGTS: R$\", fgts)\n",
    "print(\"Salário Líquido: R$\", salarioLiquido)"
   ]
  }
 ],
 "metadata": {
  "kernelspec": {
   "display_name": "Python 3",
   "language": "python",
   "name": "python3"
  },
  "language_info": {
   "codemirror_mode": {
    "name": "ipython",
    "version": 3
   },
   "file_extension": ".py",
   "mimetype": "text/x-python",
   "name": "python",
   "nbconvert_exporter": "python",
   "pygments_lexer": "ipython3",
   "version": "3.12.1"
  }
 },
 "nbformat": 4,
 "nbformat_minor": 2
}
