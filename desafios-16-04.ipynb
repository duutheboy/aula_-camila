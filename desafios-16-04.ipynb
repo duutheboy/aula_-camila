{
 "cells": [
  {
   "cell_type": "code",
   "execution_count": 10,
   "metadata": {},
   "outputs": [
    {
     "name": "stdout",
     "output_type": "stream",
     "text": [
      "Com as taxas seu carro fica com o valor de R$ 10150.0 e o valor da taxa foi R$ 150.0\n"
     ]
    }
   ],
   "source": [
    "valorCarro = float(input(\"Digite o valor do seu carro\"))\n",
    "anoCarro = int(input(\"Digite o ano do seu carro\"))\n",
    "\n",
    "if anoCarro < 1990:\n",
    "    taxa = (valorCarro * 0.01)\n",
    "    valorCarro = valorCarro + taxa\n",
    "    print (\"Com as taxas seu carro fica com o valor de R$\", valorCarro, \"e o valor da taxa foi R$\", taxa)\n",
    "else:\n",
    "    taxa = (valorCarro * 0.015)\n",
    "    valorCarro = valorCarro + (valorCarro * 0.015)\n",
    "    print (\"Com as taxas seu carro fica com o valor de R$\", valorCarro, \"e o valor da taxa foi R$\", taxa)"
   ]
  },
  {
   "cell_type": "code",
   "execution_count": 17,
   "metadata": {},
   "outputs": [
    {
     "name": "stdout",
     "output_type": "stream",
     "text": [
      "Seu aumento foi de R$ 100.0 Seu salário com o aumento ficou R$ 1100.0 e a diferença foi: R$ 100.0\n"
     ]
    }
   ],
   "source": [
    "cargo = int(input(\"Digite o código do seu cargo\"))\n",
    "salario = float(input(\"Digite o valor do seu salário\"))\n",
    "\n",
    "if cargo == 101:\n",
    "    aumento = salario * 0.1\n",
    "    salarioNovo= salario + aumento\n",
    "    diferenca = salarioNovo - salario\n",
    "    print(\"Seu aumento foi de R$\", aumento, \"Seu salário com o aumento ficou R$\", salarioNovo, \"e a diferença foi: R$\", diferenca)\n",
    "elif cargo == 102:\n",
    "    aumento = salario * 0.2\n",
    "    salarioNovo= salario + aumento\n",
    "    diferenca = salarioNovo - salario\n",
    "    print(\"Seu aumento foi de R$\", aumento, \"Seu salário com o aumento ficou R$\", salarioNovo, \"e a diferença foi: R$\", diferenca)\n",
    "elif cargo == 103:\n",
    "    aumento = salario * 0.3\n",
    "    salarioNovo= salario + aumento\n",
    "    diferenca = salarioNovo - salario\n",
    "    print(\"Seu aumento foi de R$\", aumento, \"Seu salário com o aumento ficou R$\", salarioNovo, \"e a diferença foi: R$\", diferenca)\n",
    "else:\n",
    "    aumento = salario * 0.4\n",
    "    salarioNovo= salario + aumento\n",
    "    diferenca = salarioNovo - salario\n",
    "    print(\"Seu aumento foi de R$\", aumento, \"Seu salário com o aumento ficou R$\", salarioNovo, \"e a diferença foi: R$\", diferenca, \"Do seu salário anterior\")\n"
   ]
  },
  {
   "cell_type": "code",
   "execution_count": null,
   "metadata": {},
   "outputs": [],
   "source": []
  }
 ],
 "metadata": {
  "kernelspec": {
   "display_name": "Python 3",
   "language": "python",
   "name": "python3"
  },
  "language_info": {
   "codemirror_mode": {
    "name": "ipython",
    "version": 3
   },
   "file_extension": ".py",
   "mimetype": "text/x-python",
   "name": "python",
   "nbconvert_exporter": "python",
   "pygments_lexer": "ipython3",
   "version": "3.11.4"
  }
 },
 "nbformat": 4,
 "nbformat_minor": 2
}
