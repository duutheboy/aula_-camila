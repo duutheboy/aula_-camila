{
 "cells": [
  {
   "cell_type": "code",
   "execution_count": 1,
   "metadata": {},
   "outputs": [
    {
     "name": "stdout",
     "output_type": "stream",
     "text": [
      "5 patinhos foram passear... Além das montanhas para brincar... A mamãe gritou: qua qua qua qua\n",
      "Mas só  4 voltaram de lá\n",
      "4 patinhos foram passear... Além das montanhas para brincar... A mamãe gritou: qua qua qua qua\n",
      "Mas só  3 voltaram de lá\n",
      "3 patinhos foram passear... Além das montanhas para brincar... A mamãe gritou: qua qua qua qua\n",
      "Mas só  2 voltaram de lá\n",
      "2 patinhos foram passear... Além das montanhas para brincar... A mamãe gritou: qua qua qua qua\n",
      "Mas só  1 voltaram de lá\n",
      "1 patinhos foram passear... Além das montanhas para brincar... A mamãe gritou: qua qua qua qua\n",
      "Mas só  0 voltaram de lá\n",
      "\n",
      "Mariana conta 1 Mariana conta 1 é 1\n",
      "Mariana conta 2 Mariana conta 2 é 1, é 2\n",
      "Mariana conta 3 Mariana conta 3 é 1, é 2, é 3\n",
      "Mariana conta 4 Mariana conta 4 é 1, é 2, é 3, é 4\n",
      "Mariana conta 5 Mariana conta 5 é 1, é 2, é 3, é 4, é 5\n",
      "Mariana conta 6 Mariana conta 6 é 1, é 2, é 3, é 4, é 5, é 6\n",
      "Mariana conta 7 Mariana conta 7 é 1, é 2, é 3, é 4, é 5, é 6, é 7\n",
      "Mariana conta 8 Mariana conta 8 é 1, é 2, é 3, é 4, é 5, é 6, é 7, é 8\n",
      "Mariana conta 9 Mariana conta 9 é 1, é 2, é 3, é 4, é 5, é 6, é 7, é 8, é 9\n",
      "Mariana conta 10 Mariana conta 10 é 1, é 2, é 3, é 4, é 5, é 6, é 7, é 8, é 9, é 10\n",
      "\n",
      "1 elefantes incomodam muita gente\n",
      "2 elefantes incomodam incomodam muito mais\n",
      "3 elefantes incomodam muita gente\n",
      "4 elefantes incomodam incomodam incomodam incomodam muito mais\n",
      "5 elefantes incomodam muita gente\n",
      "6 elefantes incomodam incomodam incomodam incomodam incomodam incomodam muito mais\n",
      "7 elefantes incomodam muita gente\n",
      "8 elefantes incomodam incomodam incomodam incomodam incomodam incomodam incomodam incomodam muito mais\n",
      "9 elefantes incomodam muita gente\n",
      "10 elefantes incomodam incomodam incomodam incomodam incomodam incomodam incomodam incomodam incomodam incomodam muito mais\n"
     ]
    }
   ],
   "source": [
    "# Cinco patinhos\n",
    "for patinho in [5, 4, 3, 2, 1]:\n",
    "    print(patinho, \"patinhos foram passear... Além das montanhas para brincar... A mamãe gritou: qua qua qua qua\")\n",
    "    print(\"Mas só \", patinho - 1, \"voltaram de lá\")\n",
    "\n",
    "print()  # Adiciona uma linha em branco para separar as saídas\n",
    "\n",
    "# Mariana conta\n",
    "conta = [1, 2, 3, 4, 5, 6, 7, 8, 9, 10]\n",
    "acumulados_str = ''\n",
    "\n",
    "for i in range(len(conta)):\n",
    "    num = conta[i]\n",
    "    if i == 0:\n",
    "        acumulados_str = 'é ' + str(num)\n",
    "    else:\n",
    "        acumulados_str += ', é ' + str(num)\n",
    "    print(f'Mariana conta {num} Mariana conta {num} {acumulados_str}')\n",
    "\n",
    "print()  # Adiciona uma linha em branco para separar as saídas\n",
    "\n",
    "# Um elefante incomoda muita gente\n",
    "n = [1, 2, 3, 4, 5, 6, 7, 8, 9, 10]\n",
    "\n",
    "for elefantes in n:\n",
    "    if elefantes % 2 != 0:\n",
    "        print(elefantes, 'elefantes incomodam muita gente')\n",
    "    else:\n",
    "        print(elefantes, 'elefantes', 'incomodam ' * elefantes + 'muito mais')\n"
   ]
  },
  {
   "cell_type": "code",
   "execution_count": null,
   "metadata": {},
   "outputs": [],
   "source": []
  }
 ],
 "metadata": {
  "kernelspec": {
   "display_name": "Python 3",
   "language": "python",
   "name": "python3"
  },
  "language_info": {
   "codemirror_mode": {
    "name": "ipython",
    "version": 3
   },
   "file_extension": ".py",
   "mimetype": "text/x-python",
   "name": "python",
   "nbconvert_exporter": "python",
   "pygments_lexer": "ipython3",
   "version": "3.11.9"
  }
 },
 "nbformat": 4,
 "nbformat_minor": 2
}
