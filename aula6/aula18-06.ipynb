{
 "cells": [
  {
   "cell_type": "code",
   "execution_count": null,
   "metadata": {},
   "outputs": [],
   "source": [
    "def funcaoLeitura():\n",
    "    for num in range(5):\n",
    "        print(\"Número \", num)\n",
    "\n",
    "funcaoLeitura()"
   ]
  },
  {
   "cell_type": "code",
   "execution_count": null,
   "metadata": {},
   "outputs": [],
   "source": [
    "def addNum(n1, n2):\n",
    "    print(\"O primeiro número é \", n2)\n",
    "    print(\"O segundo número é \", n2)\n",
    "    print(\"A soma dos dois números é \", n1+n2)\n",
    "\n",
    "addNum(4,5)"
   ]
  },
  {
   "cell_type": "code",
   "execution_count": null,
   "metadata": {},
   "outputs": [],
   "source": [
    "varGlobal = 10\n",
    "\n",
    "def multiplica(num1, num2):\n",
    "    varLocal = num1 * num2\n",
    "    print(\"O resultado da multiplicação é: \", varLocal)\n",
    "\n",
    "multiplica(5, 5)"
   ]
  },
  {
   "cell_type": "code",
   "execution_count": 5,
   "metadata": {},
   "outputs": [
    {
     "name": "stdout",
     "output_type": "stream",
     "text": [
      "O resultado da multiplicação é:  25\n",
      "10\n"
     ]
    }
   ],
   "source": [
    "varGlobal = 10 # Variável definida\n",
    "\n",
    "def multiplica(num1, num2):\n",
    "    varGlobal = num1 * num2 # Outra variável com o mesmo nome, porém apontando para outro local na memória.\n",
    "    print(\"O resultado da multiplicação é: \", varGlobal)\n",
    "\n",
    "multiplica(5, 5) # Imprime a variável global dentro da função, definida apenas em um escopo do código.\n",
    "print(varGlobal) # Imprime a variável global, a definida inicialmente"
   ]
  },
  {
   "cell_type": "code",
   "execution_count": 7,
   "metadata": {},
   "outputs": [
    {
     "name": "stdout",
     "output_type": "stream",
     "text": [
      "Parâmetro 0 Eduardo\n",
      "Parâmetro 1 Du\n",
      "Parâmetro 2 José\n"
     ]
    }
   ],
   "source": [
    "def variosParametros(*parametros):\n",
    "    for n, item in enumerate(parametros):\n",
    "        print(\"Parâmetro\", n, item)\n",
    "    return\n",
    "\n",
    "variosParametros(\"Eduardo\", \"Du\", \"José\")"
   ]
  },
  {
   "cell_type": "code",
   "execution_count": 11,
   "metadata": {},
   "outputs": [],
   "source": [
    "def soma(n1, n2):\n",
    "    return n1 + n2\n",
    "\n",
    "def subtracao(n1, n2):\n",
    "    return 1 - n2\n",
    "\n",
    "def multiplicacao(n1, n2):\n",
    "    return n1 * n2\n",
    "\n",
    "def divisao(n1, n2):\n",
    "    return n1 / n2"
   ]
  },
  {
   "cell_type": "code",
   "execution_count": 20,
   "metadata": {},
   "outputs": [
    {
     "name": "stdout",
     "output_type": "stream",
     "text": [
      "+=======================+\n",
      "  | Menu de Operaçãoes | \n",
      " |     1 - Somar       | \n",
      " |     2 - Subtrair    | \n",
      " |     3 - Multiplicar | \n",
      " |     4 - Dividir     | \n",
      " |     0 - Sair        | \n",
      "+=======================+\n",
      "Insira uma operação válida!\n",
      "+=======================+\n",
      "  | Menu de Operaçãoes | \n",
      " |     1 - Somar       | \n",
      " |     2 - Subtrair    | \n",
      " |     3 - Multiplicar | \n",
      " |     4 - Dividir     | \n",
      " |     0 - Sair        | \n",
      "+=======================+\n",
      "Resultado da sua operação:  2\n"
     ]
    }
   ],
   "source": [
    "while True:\n",
    "    print(\"+=======================+\")\n",
    "    print(\"  | Menu de Operaçãoes | \")\n",
    "    print(\" |     1 - Somar       | \")\n",
    "    print(\" |     2 - Subtrair    | \")\n",
    "    print(\" |     3 - Multiplicar | \")\n",
    "    print(\" |     4 - Dividir     | \")\n",
    "    print(\" |     0 - Sair        | \")\n",
    "    print(\"+=======================+\")\n",
    "    \n",
    "    op = int(input())\n",
    "    if op == 0:\n",
    "        break\n",
    "\n",
    "    n1 = int(input(\"Digite o primeiro número\"))\n",
    "    n2 = int(input(\"Digite o segunda número\"))\n",
    "\n",
    "    if op == 1:\n",
    "        print(\"Resultado da sua operação: \",soma(n1, n2))\n",
    "        break\n",
    "    elif op == 2:\n",
    "        print(\"Resultado da sua operação: \",subtracao(n1, n2))\n",
    "        break\n",
    "    elif op == 3:\n",
    "        print(\"Resultado da sua operação: \",multiplicacao(n1, n2))\n",
    "        break\n",
    "    elif op == 4:\n",
    "       print(\"Resultado da sua operação: \", divisao(n1,n2))\n",
    "       break\n",
    "    else:\n",
    "        print(\"Insira uma operação válida!\")"
   ]
  },
  {
   "cell_type": "code",
   "execution_count": null,
   "metadata": {},
   "outputs": [],
   "source": []
  }
 ],
 "metadata": {
  "kernelspec": {
   "display_name": "Python 3",
   "language": "python",
   "name": "python3"
  },
  "language_info": {
   "codemirror_mode": {
    "name": "ipython",
    "version": 3
   },
   "file_extension": ".py",
   "mimetype": "text/x-python",
   "name": "python",
   "nbconvert_exporter": "python",
   "pygments_lexer": "ipython3",
   "version": "3.11.9"
  }
 },
 "nbformat": 4,
 "nbformat_minor": 2
}
