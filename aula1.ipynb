{
 "cells": [
  {
   "cell_type": "code",
   "execution_count": null,
   "metadata": {},
   "outputs": [],
   "source": [
    "num = int(input(\"Digite um número\"))\n",
    "print(\"O número informado foi:\", num)"
   ]
  },
  {
   "cell_type": "code",
   "execution_count": 1,
   "metadata": {},
   "outputs": [
    {
     "name": "stdout",
     "output_type": "stream",
     "text": [
      "15\n"
     ]
    }
   ],
   "source": [
    "num1 = int(input('Digite um número'))\n",
    "num2 = int(input('Digite outro número'))\n",
    "\n",
    "soma = (num1 + num2)\n",
    "print(soma)"
   ]
  },
  {
   "cell_type": "code",
   "execution_count": 3,
   "metadata": {},
   "outputs": [
    {
     "name": "stdout",
     "output_type": "stream",
     "text": [
      "Sua média foi:  9.566666666666666\n"
     ]
    }
   ],
   "source": [
    "nota1 = float(input('Digite sua primeira nota: '))\n",
    "nota2 = float(input('Digite sua segunda nota: '))\n",
    "nota3 = float(input('Digite sua terceira nota: '))\n",
    "\n",
    "media = ((nota1 + nota2 + nota3) / 3)\n",
    "print(\"Sua média foi: \", media);"
   ]
  },
  {
   "cell_type": "code",
   "execution_count": 5,
   "metadata": {},
   "outputs": [
    {
     "name": "stdout",
     "output_type": "stream",
     "text": [
      "Seu salário por mês é:  36000\n"
     ]
    }
   ],
   "source": [
    "valorHoras = int(input(\"Digite o quanto você ganha por hora:\"))\n",
    "numHoras = int(input(\"Digite quantas horas você trabalha por mês\"))\n",
    "\n",
    "salarioMes = (valorHoras * numHoras)\n",
    "print(\"Seu salário por mês é: \", salarioMes)"
   ]
  },
  {
   "cell_type": "code",
   "execution_count": 8,
   "metadata": {},
   "outputs": [
    {
     "name": "stdout",
     "output_type": "stream",
     "text": [
      "Seu peso não excedeu o limite de 50 kg\n"
     ]
    }
   ],
   "source": [
    "# Input do peso\n",
    "peso = float(input(\"Digite o peso da pesca em KG: \"))\n",
    "\n",
    "# Início a variável de peso excecido, guardando a quantidade que ultrapassa o limite\n",
    "pesoExcedido = peso - 50\n",
    "\n",
    "# Inicio a variável que guarda o valor da multa, sendo 0 como valor padrão \n",
    "multaPorPesoExcedido = 0\n",
    "\n",
    "# Caso exista um peso excedido, é calculado a multa em cima da quantidade de KG que passou do limite\n",
    "if pesoExcedido > 0:\n",
    "    multaPorPesoExcedido = pesoExcedido * 4\n",
    "    print(\"Seu peso excedeu \", pesoExcedido,\"kg e você terá que pagar uma multa de:\",\"R$\", multaPorPesoExcedido)\n",
    "else:\n",
    "    print(\"Seu peso não excedeu o limite de 50 kg, portanto está insento de multas.\")"
   ]
  },
  {
   "cell_type": "code",
   "execution_count": null,
   "metadata": {},
   "outputs": [],
   "source": [
    "#"
   ]
  }
 ],
 "metadata": {
  "kernelspec": {
   "display_name": "Python 3",
   "language": "python",
   "name": "python3"
  },
  "language_info": {
   "codemirror_mode": {
    "name": "ipython",
    "version": 3
   },
   "file_extension": ".py",
   "mimetype": "text/x-python",
   "name": "python",
   "nbconvert_exporter": "python",
   "pygments_lexer": "ipython3",
   "version": "3.11.9"
  }
 },
 "nbformat": 4,
 "nbformat_minor": 2
}
